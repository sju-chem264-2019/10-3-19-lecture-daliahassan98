{
 "cells": [
  {
   "cell_type": "markdown",
   "metadata": {},
   "source": [
    "# Variational Principle  using Symbolic Mathematics in Python "
   ]
  },
  {
   "cell_type": "markdown",
   "metadata": {},
   "source": [
    "## 1. Introduction"
   ]
  },
  {
   "cell_type": "markdown",
   "metadata": {},
   "source": [
    "The variational principle tells us that we can use a trial wavefunction to solve the Schrodinger equation using the following theorem:\n",
    "\n",
    "$${{\\int {{\\Psi ^*}\\hat H{\\rm{ }}\\Psi } d\\tau } \\over {\\int {{\\Psi ^*}\\Psi } d\\tau }} \\ge {E_0}$$\n",
    "\n",
    "We will use Sympy to solve the particle in a box problem by guessing a trial wavefunction using variational principle"
   ]
  },
  {
   "cell_type": "code",
   "execution_count": 4,
   "metadata": {},
   "outputs": [],
   "source": [
    "import sympy as sym"
   ]
  },
  {
   "cell_type": "markdown",
   "metadata": {},
   "source": [
    "This exercise is a bit more self-guided than the other notebooks we have done. One of the most useful things you can do is **open last week's notebook to remember the commands in sympy**. Also, remember that google is your friend:\n",
    "\n",
    "1. [Sympy tutorial](https://docs.sympy.org/latest/tutorial/index.html)\n",
    "2. [Stack Overflow](https://stackoverflow.com/search?q=sympy+)\n",
    "3. [Stack Exchange](https://stackexchange.com/)"
   ]
  },
  {
   "cell_type": "markdown",
   "metadata": {},
   "source": [
    "## 2. Particle in a box"
   ]
  },
  {
   "cell_type": "markdown",
   "metadata": {},
   "source": [
    "The wave function that we pick for a particle in a box needs to have the following properties\n",
    "\n",
    "1. single valued\n",
    "1. normalizable\n",
    "1. function and its first derivative are continuous \n",
    "1. boundary condition that the wave function goes to zero at the ends of the box\n",
    "\n",
    "![Particle in a box](InfiniteSquareWellAnimation.gif)\n",
    "\n",
    "Particle in a box: a is a classical particle, red is real part, blue is imaginary part."
   ]
  },
  {
   "cell_type": "markdown",
   "metadata": {},
   "source": [
    "This particle only expericnes kinetic energy between the box, so the Hamiltonian for this system is\n",
    "\n",
    "$$\\hat H = {{ - {\\hbar ^2}} \\over {2m}}{{{d^2}} \\over {d{x^2}}} + \\left\\{ {\\matrix{{V(x) = 0} & {0 < x < a}  \\cr {V(x) = \\infty } & {x < 0\\text{ }{\\rm{ or}}\\;x > a}  \\cr } } \\right.$$\n",
    "\n",
    "For our purposes, that means we can consider the Hamiltonian to be \n",
    "\n",
    "$$\\hat H = {{ - {\\hbar ^2}} \\over {2m}}{{{d^2}} \\over {d{x^2}}}$$\n",
    "\n",
    "as long as we keep the limits of integration to be $(0,a)$"
   ]
  },
  {
   "cell_type": "markdown",
   "metadata": {},
   "source": [
    "### 2.1 Trial Wave function"
   ]
  },
  {
   "cell_type": "markdown",
   "metadata": {},
   "source": [
    "Although the particle in box has a well known solution\n",
    "\n",
    "[https://en.wikipedia.org/wiki/Particle_in_a_box](https://en.wikipedia.org/wiki/Particle_in_a_box)\n",
    "\n",
    "(or check your favorite pchem book)\n",
    "\n",
    "We are going to guess a trial wave function:\n",
    "\n",
    "$$\\Phi (x) = \\left( {{x \\over a} - {{{x^3}} \\over a^3}} \\right) + \\alpha \\left( {{{{x^5}} \\over {{a^5}}} - {1 \\over 2}\\left( {{{{x^7}} \\over {{a^7}}} + {{{x^9}} \\over {{a^9}}}} \\right)} \\right)$$"
   ]
  },
  {
   "cell_type": "markdown",
   "metadata": {},
   "source": [
    "### 2.2 Exercise: Variational Theorem"
   ]
  },
  {
   "cell_type": "markdown",
   "metadata": {},
   "source": [
    "We are going to follow the following plan:\n",
    "\n",
    "1. Solve for the energy of the trial wave function above  \n",
    "\n",
    "$${E_{trial}} = {{\\int\\limits_0^a {\\Phi (x){{ - {\\hbar ^2}} \\over {2m}}{{{d^2}} \\over {d{x^2}}}\\Phi (x)dx} } \\over {\\int\\limits_0^a {\\Phi {{(x)}^2}dx} }}$$\n",
    "\n",
    "Your answer will be a function of $ m,a,\\text{and } \\alpha$ We will use $\\alpha$ as the parameter we vary to minimize the energy and make a new trial wave function.\n",
    "\n",
    "2. Minimize the trial energy \n",
    "We will use a first derivative of the trial energy $${d \\over {d\\alpha }}{E_{trial}}(\\alpha )$$ to find the value of $\\alpha$ that gives you the lowest energy\n",
    "\n",
    "\n",
    "3. Plot your new wavefunction compared to the ground state particle in a box: $${\\psi _{true}}(x) = {\\left( {{2 \\over a}} \\right)^{1/2}}\\sin {{n\\pi x} \\over a}$$ Plot as a function of $x/a$ from $0$ to $1$. Assuming this has $m=m_e$, and $a=a_0$ use atomic (theorist) units to plot the function.\n",
    "\n",
    "4. Compare your trial energy to the actual energy (using atomic units)\n",
    "$${E_{true}}(n = 1) = {{{\\hbar ^2}{\\pi ^2}} \\over {2m{a^2}}}$$\n"
   ]
  },
  {
   "cell_type": "code",
   "execution_count": 5,
   "metadata": {},
   "outputs": [],
   "source": [
    "# Your code here\n",
    "# h bar in atomic units is equal to 1\n",
    "from sympy import *\n",
    "m,a,x,alpha = sym.symbols('m,a_0,x,alpha')"
   ]
  },
  {
   "cell_type": "code",
   "execution_count": 3,
   "metadata": {},
   "outputs": [
    {
     "data": {
      "text/latex": [
       "$\\displaystyle \\alpha \\left(\\frac{x^{5}}{a_{0}^{5}} - \\frac{0.5 x^{7}}{a_{0}^{7}} - \\frac{0.5 x^{9}}{a_{0}^{9}}\\right) + \\frac{x}{a_{0}} - \\frac{x^{3}}{a_{0}^{3}}$"
      ],
      "text/plain": [
       "alpha*(x**5/a_0**5 - 0.5*x**7/a_0**7 - 0.5*x**9/a_0**9) + x/a_0 - x**3/a_0**3"
      ]
     },
     "execution_count": 3,
     "metadata": {},
     "output_type": "execute_result"
    }
   ],
   "source": [
    "phi = ((x/a)-(x**3/a**3)) + alpha*((x**5/a**5)-((1/2)*((x**7/a**7)+(x**9/a**9))))\n",
    "phi"
   ]
  },
  {
   "cell_type": "code",
   "execution_count": 4,
   "metadata": {},
   "outputs": [
    {
     "data": {
      "text/latex": [
       "$\\displaystyle - \\frac{x \\left(6 + \\frac{\\alpha x^{2} \\left(-20 + \\frac{21.0 x^{2}}{a_{0}^{2}} + \\frac{36.0 x^{4}}{a_{0}^{4}}\\right)}{a_{0}^{2}}\\right)}{a_{0}^{3}}$"
      ],
      "text/plain": [
       "-x*(6 + alpha*x**2*(-20 + 21.0*x**2/a_0**2 + 36.0*x**4/a_0**4)/a_0**2)/a_0**3"
      ]
     },
     "execution_count": 4,
     "metadata": {},
     "output_type": "execute_result"
    }
   ],
   "source": [
    "doublediff=sym.diff((phi),x,x)\n",
    "doublediff"
   ]
  },
  {
   "cell_type": "code",
   "execution_count": 5,
   "metadata": {},
   "outputs": [
    {
     "data": {
      "text/latex": [
       "$\\displaystyle - \\frac{x \\left(6 + \\frac{\\alpha x^{2} \\left(-20 + \\frac{21.0 x^{2}}{a_{0}^{2}} + \\frac{36.0 x^{4}}{a_{0}^{4}}\\right)}{a_{0}^{2}}\\right) \\left(- \\frac{\\alpha \\left(\\frac{x^{5}}{a_{0}^{5}} - \\frac{0.5 x^{7}}{a_{0}^{7}} - \\frac{0.5 x^{9}}{a_{0}^{9}}\\right)}{2} - \\frac{x}{2 a_{0}} + \\frac{x^{3}}{2 a_{0}^{3}}\\right)}{a_{0}^{3}}$"
      ],
      "text/plain": [
       "-x*(6 + alpha*x**2*(-20 + 21.0*x**2/a_0**2 + 36.0*x**4/a_0**4)/a_0**2)*(-alpha*(x**5/a_0**5 - 0.5*x**7/a_0**7 - 0.5*x**9/a_0**9)/2 - x/(2*a_0) + x**3/(2*a_0**3))/a_0**3"
      ]
     },
     "execution_count": 5,
     "metadata": {},
     "output_type": "execute_result"
    }
   ],
   "source": [
    "numerator=phi*sym.Rational(-1/2)*(doublediff)\n",
    "numerator"
   ]
  },
  {
   "cell_type": "code",
   "execution_count": 6,
   "metadata": {},
   "outputs": [
    {
     "data": {
      "text/latex": [
       "$\\displaystyle \\left(\\alpha \\left(\\frac{x^{5}}{a_{0}^{5}} - \\frac{0.5 x^{7}}{a_{0}^{7}} - \\frac{0.5 x^{9}}{a_{0}^{9}}\\right) + \\frac{x}{a_{0}} - \\frac{x^{3}}{a_{0}^{3}}\\right)^{2}$"
      ],
      "text/plain": [
       "(alpha*(x**5/a_0**5 - 0.5*x**7/a_0**7 - 0.5*x**9/a_0**9) + x/a_0 - x**3/a_0**3)**2"
      ]
     },
     "execution_count": 6,
     "metadata": {},
     "output_type": "execute_result"
    }
   ],
   "source": [
    "denominator= (phi*phi)\n",
    "denominator"
   ]
  },
  {
   "cell_type": "code",
   "execution_count": 7,
   "metadata": {},
   "outputs": [
    {
     "data": {
      "text/latex": [
       "$\\displaystyle - \\frac{0.114027149321267 \\alpha^{2}}{a_{0}} + \\frac{3.35714285714286 \\alpha}{a_{0}} + \\frac{0.2 \\left(- 10.0 \\alpha - 3.0\\right)}{a_{0}} + \\frac{0.111111111111111 \\left(- 10.0 \\alpha^{2} + 6.0 \\alpha\\right)}{a_{0}} + \\frac{0.0909090909090909 \\left(15.5 \\alpha^{2} - 19.5 \\alpha\\right)}{a_{0}} + \\frac{1.0}{a_{0}}$"
      ],
      "text/plain": [
       "-0.114027149321267*alpha**2/a_0 + 3.35714285714286*alpha/a_0 + 0.2*(-10.0*alpha - 3.0)/a_0 + 0.111111111111111*(-10.0*alpha**2 + 6.0*alpha)/a_0 + 0.0909090909090909*(15.5*alpha**2 - 19.5*alpha)/a_0 + 1.0/a_0"
      ]
     },
     "execution_count": 7,
     "metadata": {},
     "output_type": "execute_result"
    }
   ],
   "source": [
    "top=(sym.integrate((numerator), (x,0,a)))\n",
    "top"
   ]
  },
  {
   "cell_type": "code",
   "execution_count": 8,
   "metadata": {},
   "outputs": [
    {
     "data": {
      "text/latex": [
       "$\\displaystyle 0.0834787503518154 a_{0} \\alpha^{2} - 0.333333333333333 a_{0} \\alpha + 0.142857142857143 a_{0} \\left(2.0 \\alpha + 1.0\\right) + 0.0769230769230769 a_{0} \\left(- 1.0 \\alpha^{2} + 1.0 \\alpha\\right) - 0.0666666666666667 a_{0}$"
      ],
      "text/plain": [
       "0.0834787503518154*a_0*alpha**2 - 0.333333333333333*a_0*alpha + 0.142857142857143*a_0*(2.0*alpha + 1.0) + 0.0769230769230769*a_0*(-1.0*alpha**2 + 1.0*alpha) - 0.0666666666666667*a_0"
      ]
     },
     "execution_count": 8,
     "metadata": {},
     "output_type": "execute_result"
    }
   ],
   "source": [
    "bottom=(sym.integrate((denominator), (x,0,a)))\n",
    "bottom"
   ]
  },
  {
   "cell_type": "code",
   "execution_count": 9,
   "metadata": {},
   "outputs": [
    {
     "data": {
      "text/latex": [
       "$\\displaystyle \\frac{- \\frac{0.114027149321267 \\alpha^{2}}{a_{0}} + \\frac{3.35714285714286 \\alpha}{a_{0}} + \\frac{0.2 \\left(- 10.0 \\alpha - 3.0\\right)}{a_{0}} + \\frac{0.111111111111111 \\left(- 10.0 \\alpha^{2} + 6.0 \\alpha\\right)}{a_{0}} + \\frac{0.0909090909090909 \\left(15.5 \\alpha^{2} - 19.5 \\alpha\\right)}{a_{0}} + \\frac{1.0}{a_{0}}}{0.0834787503518154 a_{0} \\alpha^{2} - 0.333333333333333 a_{0} \\alpha + 0.142857142857143 a_{0} \\left(2.0 \\alpha + 1.0\\right) + 0.0769230769230769 a_{0} \\left(- 1.0 \\alpha^{2} + 1.0 \\alpha\\right) - 0.0666666666666667 a_{0}}$"
      ],
      "text/plain": [
       "(-0.114027149321267*alpha**2/a_0 + 3.35714285714286*alpha/a_0 + 0.2*(-10.0*alpha - 3.0)/a_0 + 0.111111111111111*(-10.0*alpha**2 + 6.0*alpha)/a_0 + 0.0909090909090909*(15.5*alpha**2 - 19.5*alpha)/a_0 + 1.0/a_0)/(0.0834787503518154*a_0*alpha**2 - 0.333333333333333*a_0*alpha + 0.142857142857143*a_0*(2.0*alpha + 1.0) + 0.0769230769230769*a_0*(-1.0*alpha**2 + 1.0*alpha) - 0.0666666666666667*a_0)"
      ]
     },
     "execution_count": 9,
     "metadata": {},
     "output_type": "execute_result"
    }
   ],
   "source": [
    "top/bottom"
   ]
  },
  {
   "cell_type": "code",
   "execution_count": 10,
   "metadata": {},
   "outputs": [
    {
     "data": {
      "text/latex": [
       "$\\displaystyle \\frac{0.183952648658531 \\alpha^{2} + 0.251082251082251 \\alpha + 0.4}{0.00655567342873843 \\alpha^{2} + 0.0293040293040293 \\alpha + 0.0761904761904761}$"
      ],
      "text/plain": [
       "(0.183952648658531*alpha**2 + 0.251082251082251*alpha + 0.4)/(0.00655567342873843*alpha**2 + 0.0293040293040293*alpha + 0.0761904761904761)"
      ]
     },
     "execution_count": 10,
     "metadata": {},
     "output_type": "execute_result"
    }
   ],
   "source": [
    "function=(top/bottom).subs(a,1)\n",
    "function"
   ]
  },
  {
   "cell_type": "code",
   "execution_count": 11,
   "metadata": {},
   "outputs": [
    {
     "data": {
      "text/latex": [
       "$\\displaystyle \\left\\{-5.7405696334359, -0.344647139378354\\right\\}$"
      ],
      "text/plain": [
       "{-5.7405696334359, -0.344647139378354}"
      ]
     },
     "execution_count": 11,
     "metadata": {},
     "output_type": "execute_result"
    }
   ],
   "source": [
    "solveset(sym.diff(function,alpha))"
   ]
  },
  {
   "cell_type": "code",
   "execution_count": 12,
   "metadata": {},
   "outputs": [
    {
     "data": {
      "text/latex": [
       "$\\displaystyle 40.4873729589683$"
      ],
      "text/plain": [
       "40.4873729589683"
      ]
     },
     "execution_count": 12,
     "metadata": {},
     "output_type": "execute_result"
    }
   ],
   "source": [
    "alpha1=-5.7405696334359\n",
    "E1=function.subs(alpha,alpha1)\n",
    "E1"
   ]
  },
  {
   "cell_type": "code",
   "execution_count": 13,
   "metadata": {},
   "outputs": [
    {
     "data": {
      "text/latex": [
       "$\\displaystyle 5.01446575472432$"
      ],
      "text/plain": [
       "5.01446575472432"
      ]
     },
     "execution_count": 13,
     "metadata": {},
     "output_type": "execute_result"
    }
   ],
   "source": [
    "alpha2=-0.344647139378354\n",
    "E2=function.subs(alpha, alpha2)\n",
    "E2"
   ]
  },
  {
   "cell_type": "code",
   "execution_count": 14,
   "metadata": {},
   "outputs": [
    {
     "data": {
      "text/latex": [
       "$\\displaystyle \\frac{x}{a_{0}} - \\frac{x^{3}}{a_{0}^{3}} - \\frac{0.344647139378354 x^{5}}{a_{0}^{5}} + \\frac{0.172323569689177 x^{7}}{a_{0}^{7}} + \\frac{0.172323569689177 x^{9}}{a_{0}^{9}}$"
      ],
      "text/plain": [
       "x/a_0 - x**3/a_0**3 - 0.344647139378354*x**5/a_0**5 + 0.172323569689177*x**7/a_0**7 + 0.172323569689177*x**9/a_0**9"
      ]
     },
     "execution_count": 14,
     "metadata": {},
     "output_type": "execute_result"
    }
   ],
   "source": [
    "newphi=phi.subs(alpha, alpha2)\n",
    "newphi"
   ]
  },
  {
   "cell_type": "code",
   "execution_count": 15,
   "metadata": {},
   "outputs": [
    {
     "data": {
      "text/latex": [
       "$\\displaystyle 0.172323569689177 x^{9} + 0.172323569689177 x^{7} - 0.344647139378354 x^{5} - x^{3} + x$"
      ],
      "text/plain": [
       "0.172323569689177*x**9 + 0.172323569689177*x**7 - 0.344647139378354*x**5 - x**3 + x"
      ]
     },
     "execution_count": 15,
     "metadata": {},
     "output_type": "execute_result"
    }
   ],
   "source": [
    "newphi2=newphi.subs(a,1)\n",
    "newphi2"
   ]
  },
  {
   "cell_type": "code",
   "execution_count": 19,
   "metadata": {},
   "outputs": [
    {
     "data": {
      "image/png": "[encoded data removed]",
      "text/plain": [
       "<Figure size 432x288 with 1 Axes>"
      ]
     },
     "metadata": {
      "needs_background": "light"
     },
     "output_type": "display_data"
    },
    {
     "data": {
      "text/plain": [
       "<sympy.plotting.plot.Plot at 0x292661c27f0>"
      ]
     },
     "execution_count": 19,
     "metadata": {},
     "output_type": "execute_result"
    }
   ],
   "source": [
    "sym.plot(newphi2,(x,0,1))"
   ]
  },
  {
   "cell_type": "code",
   "execution_count": 20,
   "metadata": {},
   "outputs": [
    {
     "data": {
      "image/png": "[encoded data removed]",
      "text/plain": [
       "<Figure size 432x288 with 1 Axes>"
      ]
     },
     "metadata": {
      "needs_background": "light"
     },
     "output_type": "display_data"
    },
    {
     "data": {
      "text/plain": [
       "<sympy.plotting.plot.Plot at 0x292662cb7f0>"
      ]
     },
     "execution_count": 20,
     "metadata": {},
     "output_type": "execute_result"
    }
   ],
   "source": [
    "#for the true wavefunction, n and a are 1\n",
    "sym.plot(sqrt(2)*sin(sym.pi*x),(x,0,1))"
   ]
  },
  {
   "cell_type": "code",
   "execution_count": 21,
   "metadata": {},
   "outputs": [
    {
     "data": {
      "image/png": "[encoded data removed]",
      "text/plain": [
       "<Figure size 432x288 with 1 Axes>"
      ]
     },
     "metadata": {
      "needs_background": "light"
     },
     "output_type": "display_data"
    },
    {
     "data": {
      "text/plain": [
       "<sympy.plotting.plot.Plot at 0x2926635e198>"
      ]
     },
     "execution_count": 21,
     "metadata": {},
     "output_type": "execute_result"
    }
   ],
   "source": [
    "sym.plot(sqrt(2)*sin(sym.pi*x),newphi2, (x,0,1))"
   ]
  },
  {
   "cell_type": "code",
   "execution_count": 22,
   "metadata": {},
   "outputs": [
    {
     "data": {
      "text/plain": [
       "(pi**2/2, 5.01446575472432)"
      ]
     },
     "execution_count": 22,
     "metadata": {},
     "output_type": "execute_result"
    }
   ],
   "source": [
    "Etrue=sym.pi**2/2\n",
    "Etrue, E2"
   ]
  },
  {
   "cell_type": "markdown",
   "metadata": {},
   "source": [
    "According to the numbers shown above, the Etrial is greater than the Eactual. This can also be seen from the comparisons of the two graphs. And so the wavefunction with the true solution is better since it gives us a lower energy. "
   ]
  },
  {
   "cell_type": "markdown",
   "metadata": {},
   "source": [
    "### 2.3 Exercise: New trial wavefunction"
   ]
  },
  {
   "cell_type": "markdown",
   "metadata": {},
   "source": [
    "Determine the minimum energy of the particle in a box using a new trial wavefunction $$x^\\alpha(x-a)^\\alpha$$\n",
    "\n",
    "1. Find the minimum energy, $E_{trial}$\n",
    "2. Plot the new trial wavefunction and compare it to the true solution and the wavefunction you found above\n",
    "3. Compare you new energy to the trial energy you found above\n",
    "4. Which wavefunction is better? How do you know?"
   ]
  },
  {
   "cell_type": "code",
   "execution_count": 23,
   "metadata": {},
   "outputs": [],
   "source": [
    "# plug in 1 for a, after you find the two values for that, find the first derivative of the function from part 1 in terms of alpha, plug them both into Etrial and see which gives you a lower value"
   ]
  },
  {
   "cell_type": "code",
   "execution_count": 130,
   "metadata": {},
   "outputs": [],
   "source": [
    "from sympy import *\n",
    "m,a,x,alpha = sym.symbols('m,a_0,x,alpha')"
   ]
  },
  {
   "cell_type": "code",
   "execution_count": 131,
   "metadata": {},
   "outputs": [
    {
     "data": {
      "text/latex": [
       "$\\displaystyle x^{\\alpha} \\left(- a_{0} + x\\right)^{\\alpha}$"
      ],
      "text/plain": [
       "x**alpha*(-a_0 + x)**alpha"
      ]
     },
     "execution_count": 131,
     "metadata": {},
     "output_type": "execute_result"
    }
   ],
   "source": [
    "phi2 = x**alpha*(x-a)**alpha\n",
    "phi2"
   ]
  },
  {
   "cell_type": "code",
   "execution_count": 132,
   "metadata": {},
   "outputs": [
    {
     "data": {
      "text/latex": [
       "$\\displaystyle \\alpha x^{\\alpha} \\left(- a_{0} + x\\right)^{\\alpha} \\left(- \\frac{2 \\alpha}{x \\left(a_{0} - x\\right)} + \\frac{\\alpha - 1}{\\left(a_{0} - x\\right)^{2}} + \\frac{\\alpha - 1}{x^{2}}\\right)$"
      ],
      "text/plain": [
       "alpha*x**alpha*(-a_0 + x)**alpha*(-2*alpha/(x*(a_0 - x)) + (alpha - 1)/(a_0 - x)**2 + (alpha - 1)/x**2)"
      ]
     },
     "execution_count": 132,
     "metadata": {},
     "output_type": "execute_result"
    }
   ],
   "source": [
    "doublediff2=sym.diff((phi2),x,x)\n",
    "doublediff2"
   ]
  },
  {
   "cell_type": "code",
   "execution_count": 133,
   "metadata": {},
   "outputs": [
    {
     "data": {
      "text/latex": [
       "$\\displaystyle - \\frac{\\alpha x^{2 \\alpha} \\left(- a_{0} + x\\right)^{2 \\alpha} \\left(- \\frac{2 \\alpha}{x \\left(a_{0} - x\\right)} + \\frac{\\alpha - 1}{\\left(a_{0} - x\\right)^{2}} + \\frac{\\alpha - 1}{x^{2}}\\right)}{2}$"
      ],
      "text/plain": [
       "-alpha*x**(2*alpha)*(-a_0 + x)**(2*alpha)*(-2*alpha/(x*(a_0 - x)) + (alpha - 1)/(a_0 - x)**2 + (alpha - 1)/x**2)/2"
      ]
     },
     "execution_count": 133,
     "metadata": {},
     "output_type": "execute_result"
    }
   ],
   "source": [
    "numerator2=phi2*sym.Rational(-1/2)*(doublediff2)\n",
    "numerator2"
   ]
  },
  {
   "cell_type": "code",
   "execution_count": 134,
   "metadata": {},
   "outputs": [
    {
     "data": {
      "text/latex": [
       "$\\displaystyle x^{2 \\alpha} \\left(- a_{0} + x\\right)^{2 \\alpha}$"
      ],
      "text/plain": [
       "x**(2*alpha)*(-a_0 + x)**(2*alpha)"
      ]
     },
     "execution_count": 134,
     "metadata": {},
     "output_type": "execute_result"
    }
   ],
   "source": [
    "denominator2= (phi2*phi2)\n",
    "denominator2"
   ]
  },
  {
   "cell_type": "code",
   "execution_count": 135,
   "metadata": {},
   "outputs": [
    {
     "data": {
      "text/latex": [
       "$\\displaystyle - \\frac{\\alpha \\int\\limits_{0}^{a_{0}} \\frac{x^{2 \\alpha} \\left(- a_{0} + x\\right)^{2 \\alpha} \\left(a_{0}^{2} \\alpha - a_{0}^{2} - 4 a_{0} \\alpha x + 2 a_{0} x + 4 \\alpha x^{2} - 2 x^{2}\\right)}{x^{2} \\left(- a_{0} + x\\right)^{2}}\\, dx}{2}$"
      ],
      "text/plain": [
       "-alpha*Integral(x**(2*alpha)*(-a_0 + x)**(2*alpha)*(a_0**2*alpha - a_0**2 - 4*a_0*alpha*x + 2*a_0*x + 4*alpha*x**2 - 2*x**2)/(x**2*(-a_0 + x)**2), (x, 0, a_0))/2"
      ]
     },
     "execution_count": 135,
     "metadata": {},
     "output_type": "execute_result"
    }
   ],
   "source": [
    "top2=(sym.integrate((numerator2), (x,0,a)))\n",
    "top2"
   ]
  },
  {
   "cell_type": "code",
   "execution_count": 136,
   "metadata": {},
   "outputs": [
    {
     "data": {
      "text/latex": [
       "$\\displaystyle \\frac{a_{0} a_{0}^{4 \\alpha} e^{2 i \\pi \\alpha} \\Gamma\\left(2 \\alpha + 1\\right) {{}_{2}F_{1}\\left(\\begin{matrix} - 2 \\alpha, 2 \\alpha + 1 \\\\ 2 \\alpha + 2 \\end{matrix}\\middle| {1} \\right)}}{\\Gamma\\left(2 \\alpha + 2\\right)}$"
      ],
      "text/plain": [
       "a_0*a_0**(4*alpha)*exp(2*I*pi*alpha)*gamma(2*alpha + 1)*hyper((-2*alpha, 2*alpha + 1), (2*alpha + 2,), 1)/gamma(2*alpha + 2)"
      ]
     },
     "execution_count": 136,
     "metadata": {},
     "output_type": "execute_result"
    }
   ],
   "source": [
    "bottom2=(sym.integrate((denominator2), (x,0,a)))\n",
    "bottom2"
   ]
  },
  {
   "cell_type": "code",
   "execution_count": 137,
   "metadata": {},
   "outputs": [
    {
     "data": {
      "text/latex": [
       "$\\displaystyle - \\frac{a_{0}^{- 4 \\alpha} \\alpha e^{- 2 i \\pi \\alpha} \\Gamma\\left(2 \\alpha + 2\\right) \\int\\limits_{0}^{a_{0}} \\frac{x^{2 \\alpha} \\left(- a_{0} + x\\right)^{2 \\alpha} \\left(a_{0}^{2} \\alpha - a_{0}^{2} - 4 a_{0} \\alpha x + 2 a_{0} x + 4 \\alpha x^{2} - 2 x^{2}\\right)}{x^{2} \\left(- a_{0} + x\\right)^{2}}\\, dx}{2 a_{0} \\Gamma\\left(2 \\alpha + 1\\right) {{}_{2}F_{1}\\left(\\begin{matrix} - 2 \\alpha, 2 \\alpha + 1 \\\\ 2 \\alpha + 2 \\end{matrix}\\middle| {1} \\right)}}$"
      ],
      "text/plain": [
       "-a_0**(-4*alpha)*alpha*exp(-2*I*pi*alpha)*gamma(2*alpha + 2)*Integral(x**(2*alpha)*(-a_0 + x)**(2*alpha)*(a_0**2*alpha - a_0**2 - 4*a_0*alpha*x + 2*a_0*x + 4*alpha*x**2 - 2*x**2)/(x**2*(-a_0 + x)**2), (x, 0, a_0))/(2*a_0*gamma(2*alpha + 1)*hyper((-2*alpha, 2*alpha + 1), (2*alpha + 2,), 1))"
      ]
     },
     "execution_count": 137,
     "metadata": {},
     "output_type": "execute_result"
    }
   ],
   "source": [
    "top2/bottom2"
   ]
  },
  {
   "cell_type": "code",
   "execution_count": 138,
   "metadata": {},
   "outputs": [
    {
     "data": {
      "text/latex": [
       "$\\displaystyle - \\frac{\\alpha e^{- 2 i \\pi \\alpha} \\Gamma\\left(2 \\alpha + 2\\right) \\int\\limits_{0}^{1} \\frac{x^{2 \\alpha} \\left(x - 1\\right)^{2 \\alpha} \\left(4 \\alpha x^{2} - 4 \\alpha x + \\alpha - 2 x^{2} + 2 x - 1\\right)}{x^{2} \\left(x - 1\\right)^{2}}\\, dx}{2 \\Gamma\\left(2 \\alpha + 1\\right) {{}_{2}F_{1}\\left(\\begin{matrix} - 2 \\alpha, 2 \\alpha + 1 \\\\ 2 \\alpha + 2 \\end{matrix}\\middle| {1} \\right)}}$"
      ],
      "text/plain": [
       "-alpha*exp(-2*I*pi*alpha)*gamma(2*alpha + 2)*Integral(x**(2*alpha)*(x - 1)**(2*alpha)*(4*alpha*x**2 - 4*alpha*x + alpha - 2*x**2 + 2*x - 1)/(x**2*(x - 1)**2), (x, 0, 1))/(2*gamma(2*alpha + 1)*hyper((-2*alpha, 2*alpha + 1), (2*alpha + 2,), 1))"
      ]
     },
     "execution_count": 138,
     "metadata": {},
     "output_type": "execute_result"
    }
   ],
   "source": [
    "function1=(top2/bottom2).subs(a,1)\n",
    "function1"
   ]
  },
  {
   "cell_type": "code",
   "execution_count": 140,
   "metadata": {},
   "outputs": [
    {
     "data": {
      "text/latex": [
       "$\\displaystyle \\left\\{\\alpha \\mid \\alpha \\in \\mathbb{C} \\wedge \\left(2 \\alpha {{}_{2}F_{1}\\left(\\begin{matrix} - 2 \\alpha, 2 \\alpha + 1 \\\\ 2 \\alpha + 2 \\end{matrix}\\middle| {1} \\right)} \\operatorname{polygamma}{\\left(0,2 \\alpha + 1 \\right)} \\int\\limits_{0}^{1} \\frac{x^{2 \\alpha} \\left(x - 1\\right)^{2 \\alpha} \\left(4 \\alpha x^{2} - 4 \\alpha x + \\alpha - 2 x^{2} + 2 x - 1\\right)}{x^{2} \\left(x - 1\\right)^{2}}\\, dx - 2 \\alpha {{}_{2}F_{1}\\left(\\begin{matrix} - 2 \\alpha, 2 \\alpha + 1 \\\\ 2 \\alpha + 2 \\end{matrix}\\middle| {1} \\right)} \\operatorname{polygamma}{\\left(0,2 \\alpha + 2 \\right)} \\int\\limits_{0}^{1} \\frac{x^{2 \\alpha} \\left(x - 1\\right)^{2 \\alpha} \\left(4 \\alpha x^{2} - 4 \\alpha x + \\alpha - 2 x^{2} + 2 x - 1\\right)}{x^{2} \\left(x - 1\\right)^{2}}\\, dx - \\alpha {{}_{2}F_{1}\\left(\\begin{matrix} - 2 \\alpha, 2 \\alpha + 1 \\\\ 2 \\alpha + 2 \\end{matrix}\\middle| {1} \\right)} \\int\\limits_{0}^{1} \\frac{x^{2 \\alpha} \\left(x - 1\\right)^{2 \\alpha} \\left(4 x^{2} - 4 x + 2 \\left(4 \\alpha x^{2} - 4 \\alpha x + \\alpha - 2 x^{2} + 2 x - 1\\right) \\log{\\left(x \\right)} + 2 \\left(4 \\alpha x^{2} - 4 \\alpha x + \\alpha - 2 x^{2} + 2 x - 1\\right) \\log{\\left(x - 1 \\right)} + 1\\right)}{x^{2} \\left(x - 1\\right)^{2}}\\, dx + 2 i \\pi \\alpha {{}_{2}F_{1}\\left(\\begin{matrix} - 2 \\alpha, 2 \\alpha + 1 \\\\ 2 \\alpha + 2 \\end{matrix}\\middle| {1} \\right)} \\int\\limits_{0}^{1} \\frac{x^{2 \\alpha} \\left(x - 1\\right)^{2 \\alpha} \\left(4 \\alpha x^{2} - 4 \\alpha x + \\alpha - 2 x^{2} + 2 x - 1\\right)}{x^{2} \\left(x - 1\\right)^{2}}\\, dx + \\alpha \\frac{d}{d \\alpha} {{}_{2}F_{1}\\left(\\begin{matrix} - 2 \\alpha, 2 \\alpha + 1 \\\\ 2 \\alpha + 2 \\end{matrix}\\middle| {1} \\right)} \\int\\limits_{0}^{1} \\frac{x^{2 \\alpha} \\left(x - 1\\right)^{2 \\alpha} \\left(4 \\alpha x^{2} - 4 \\alpha x + \\alpha - 2 x^{2} + 2 x - 1\\right)}{x^{2} \\left(x - 1\\right)^{2}}\\, dx - {{}_{2}F_{1}\\left(\\begin{matrix} - 2 \\alpha, 2 \\alpha + 1 \\\\ 2 \\alpha + 2 \\end{matrix}\\middle| {1} \\right)} \\int\\limits_{0}^{1} \\frac{x^{2 \\alpha} \\left(x - 1\\right)^{2 \\alpha} \\left(4 \\alpha x^{2} - 4 \\alpha x + \\alpha - 2 x^{2} + 2 x - 1\\right)}{x^{2} \\left(x - 1\\right)^{2}}\\, dx\\right) \\Gamma\\left(2 \\left(\\alpha + 1\\right)\\right) = 0 \\right\\} \\setminus \\left\\{\\alpha \\mid \\alpha \\in \\mathbb{C} \\wedge e^{2 i \\pi \\alpha} \\Gamma\\left(2 \\alpha + 1\\right) {{{}_{2}F_{1}\\left(\\begin{matrix} - 2 \\alpha, 2 \\alpha + 1 \\\\ 2 \\alpha + 2 \\end{matrix}\\middle| {1} \\right)}}^{2} = 0 \\right\\}$"
      ],
      "text/plain": [
       "ConditionSet(alpha, Eq((2*alpha*hyper((-2*alpha, 2*alpha + 1), (2*alpha + 2,), 1)*polygamma(0, 2*alpha + 1)*Integral(x**(2*alpha)*(x - 1)**(2*alpha)*(4*alpha*x**2 - 4*alpha*x + alpha - 2*x**2 + 2*x - 1)/(x**2*(x - 1)**2), (x, 0, 1)) - 2*alpha*hyper((-2*alpha, 2*alpha + 1), (2*alpha + 2,), 1)*polygamma(0, 2*alpha + 2)*Integral(x**(2*alpha)*(x - 1)**(2*alpha)*(4*alpha*x**2 - 4*alpha*x + alpha - 2*x**2 + 2*x - 1)/(x**2*(x - 1)**2), (x, 0, 1)) - alpha*hyper((-2*alpha, 2*alpha + 1), (2*alpha + 2,), 1)*Integral(x**(2*alpha)*(x - 1)**(2*alpha)*(4*x**2 - 4*x + 2*(4*alpha*x**2 - 4*alpha*x + alpha - 2*x**2 + 2*x - 1)*log(x) + 2*(4*alpha*x**2 - 4*alpha*x + alpha - 2*x**2 + 2*x - 1)*log(x - 1) + 1)/(x**2*(x - 1)**2), (x, 0, 1)) + 2*I*pi*alpha*hyper((-2*alpha, 2*alpha + 1), (2*alpha + 2,), 1)*Integral(x**(2*alpha)*(x - 1)**(2*alpha)*(4*alpha*x**2 - 4*alpha*x + alpha - 2*x**2 + 2*x - 1)/(x**2*(x - 1)**2), (x, 0, 1)) + alpha*Derivative(hyper((-2*alpha, 2*alpha + 1), (2*alpha + 2,), 1), alpha)*Integral(x**(2*alpha)*(x - 1)**(2*alpha)*(4*alpha*x**2 - 4*alpha*x + alpha - 2*x**2 + 2*x - 1)/(x**2*(x - 1)**2), (x, 0, 1)) - hyper((-2*alpha, 2*alpha + 1), (2*alpha + 2,), 1)*Integral(x**(2*alpha)*(x - 1)**(2*alpha)*(4*alpha*x**2 - 4*alpha*x + alpha - 2*x**2 + 2*x - 1)/(x**2*(x - 1)**2), (x, 0, 1)))*gamma(2*(alpha + 1)), 0), Complexes(Reals x Reals, False)) \\ ConditionSet(alpha, Eq(exp(2*I*pi*alpha)*gamma(2*alpha + 1)*hyper((-2*alpha, 2*alpha + 1), (2*alpha + 2,), 1)**2, 0), Complexes(Reals x Reals, False))"
      ]
     },
     "execution_count": 140,
     "metadata": {},
     "output_type": "execute_result"
    }
   ],
   "source": [
    "solveset(sym.diff(function1,alpha))"
   ]
  },
  {
   "cell_type": "markdown",
   "metadata": {},
   "source": [
    "I did not get numerical values with these wavefunctions!!!"
   ]
  },
  {
   "cell_type": "markdown",
   "metadata": {},
   "source": [
    "### 2.4 Exercise: Design your own wavefunction!"
   ]
  },
  {
   "cell_type": "markdown",
   "metadata": {},
   "source": [
    "**Now you get to make your own wavefunction!**\n",
    "\n",
    "The only guidance I would give you is that it make sense mathematically and that it include $\\alpha$ so that you can minimize the energy.\n",
    "\n",
    "Remember that $a$ and $x$ are both length units, and that trigonometric, logarithmic, and exponential functions are all unitless  \n",
    "\n",
    "\n",
    "Using your new wavefunction:\n",
    "\n",
    "1. Find the minimum energy, $E_{trial}$\n",
    "2. Plot the new trial wavefunction and compare it to the true solution and the wavefunction you found above\n",
    "3. Compare you new energy to the trial energy you found above\n",
    "4. Which wavefunction is better? How do you know?"
   ]
  },
  {
   "cell_type": "code",
   "execution_count": 141,
   "metadata": {},
   "outputs": [],
   "source": [
    "# Your code here\n",
    "#new wavefunction = sinax^alpha"
   ]
  },
  {
   "cell_type": "markdown",
   "metadata": {},
   "source": [
    " $$\\alpha*(5ax^3-2ax^2-4ax-6)+(x^2+x)$$"
   ]
  },
  {
   "cell_type": "code",
   "execution_count": 142,
   "metadata": {},
   "outputs": [
    {
     "data": {
      "text/latex": [
       "$\\displaystyle \\alpha \\left(5 a_{0} x^{3} - 2 a_{0} x^{2} - 4 a_{0} x - 6\\right) + x^{2} + x$"
      ],
      "text/plain": [
       "alpha*(5*a_0*x**3 - 2*a_0*x**2 - 4*a_0*x - 6) + x**2 + x"
      ]
     },
     "execution_count": 142,
     "metadata": {},
     "output_type": "execute_result"
    }
   ],
   "source": [
    "phi3=alpha*(5*a*x**3-2*a*x**2-4*a*x-6)+(x**2+x)\n",
    "phi3"
   ]
  },
  {
   "cell_type": "code",
   "execution_count": 143,
   "metadata": {},
   "outputs": [
    {
     "data": {
      "text/latex": [
       "$\\displaystyle 2 \\left(a_{0} \\alpha \\left(15 x - 2\\right) + 1\\right)$"
      ],
      "text/plain": [
       "2*(a_0*alpha*(15*x - 2) + 1)"
      ]
     },
     "execution_count": 143,
     "metadata": {},
     "output_type": "execute_result"
    }
   ],
   "source": [
    "doublediff3=sym.diff((phi3),x,x)\n",
    "doublediff3"
   ]
  },
  {
   "cell_type": "code",
   "execution_count": 144,
   "metadata": {},
   "outputs": [
    {
     "data": {
      "text/latex": [
       "$\\displaystyle 2 \\left(a_{0} \\alpha \\left(15 x - 2\\right) + 1\\right) \\left(- \\frac{\\alpha \\left(5 a_{0} x^{3} - 2 a_{0} x^{2} - 4 a_{0} x - 6\\right)}{2} - \\frac{x^{2}}{2} - \\frac{x}{2}\\right)$"
      ],
      "text/plain": [
       "2*(a_0*alpha*(15*x - 2) + 1)*(-alpha*(5*a_0*x**3 - 2*a_0*x**2 - 4*a_0*x - 6)/2 - x**2/2 - x/2)"
      ]
     },
     "execution_count": 144,
     "metadata": {},
     "output_type": "execute_result"
    }
   ],
   "source": [
    "numerator3=phi3*sym.Rational(-1/2)*(doublediff3)\n",
    "numerator3"
   ]
  },
  {
   "cell_type": "code",
   "execution_count": 145,
   "metadata": {},
   "outputs": [
    {
     "data": {
      "text/latex": [
       "$\\displaystyle \\left(\\alpha \\left(5 a_{0} x^{3} - 2 a_{0} x^{2} - 4 a_{0} x - 6\\right) + x^{2} + x\\right)^{2}$"
      ],
      "text/plain": [
       "(alpha*(5*a_0*x**3 - 2*a_0*x**2 - 4*a_0*x - 6) + x**2 + x)**2"
      ]
     },
     "execution_count": 145,
     "metadata": {},
     "output_type": "execute_result"
    }
   ],
   "source": [
    "denominator3= (phi3*phi3)\n",
    "denominator3"
   ]
  },
  {
   "cell_type": "code",
   "execution_count": 146,
   "metadata": {},
   "outputs": [
    {
     "data": {
      "text/latex": [
       "$\\displaystyle - 15 a_{0}^{7} \\alpha^{2} + a_{0}^{4} \\left(10 a_{0}^{2} \\alpha^{2} - 5 a_{0} \\alpha\\right) + a_{0}^{3} \\left(\\frac{56 a_{0}^{2} \\alpha^{2}}{3} - \\frac{11 a_{0} \\alpha}{3} - \\frac{1}{3}\\right) + a_{0}^{2} \\left(- 4 a_{0}^{2} \\alpha^{2} + 45 a_{0} \\alpha^{2} + 3 a_{0} \\alpha - \\frac{1}{2}\\right) + a_{0} \\left(- 12 a_{0} \\alpha^{2} + 6 \\alpha\\right)$"
      ],
      "text/plain": [
       "-15*a_0**7*alpha**2 + a_0**4*(10*a_0**2*alpha**2 - 5*a_0*alpha) + a_0**3*(56*a_0**2*alpha**2/3 - 11*a_0*alpha/3 - 1/3) + a_0**2*(-4*a_0**2*alpha**2 + 45*a_0*alpha**2 + 3*a_0*alpha - 1/2) + a_0*(-12*a_0*alpha**2 + 6*alpha)"
      ]
     },
     "execution_count": 146,
     "metadata": {},
     "output_type": "execute_result"
    }
   ],
   "source": [
    "top3=(sym.integrate((numerator3), (x,0,a)))\n",
    "top3"
   ]
  },
  {
   "cell_type": "code",
   "execution_count": 147,
   "metadata": {},
   "outputs": [
    {
     "data": {
      "text/latex": [
       "$\\displaystyle \\frac{25 a_{0}^{9} \\alpha^{2}}{7} + a_{0}^{6} \\left(- \\frac{10 a_{0}^{2} \\alpha^{2}}{3} + \\frac{5 a_{0} \\alpha}{3}\\right) + a_{0}^{5} \\left(- \\frac{36 a_{0}^{2} \\alpha^{2}}{5} + \\frac{6 a_{0} \\alpha}{5} + \\frac{1}{5}\\right) + a_{0}^{4} \\left(4 a_{0}^{2} \\alpha^{2} - 15 a_{0} \\alpha^{2} - 3 a_{0} \\alpha + \\frac{1}{2}\\right) + a_{0}^{3} \\left(\\frac{16 a_{0}^{2} \\alpha^{2}}{3} + 8 a_{0} \\alpha^{2} - \\frac{8 a_{0} \\alpha}{3} - 4 \\alpha + \\frac{1}{3}\\right) + a_{0}^{2} \\left(24 a_{0} \\alpha^{2} - 6 \\alpha\\right) + 36 a_{0} \\alpha^{2}$"
      ],
      "text/plain": [
       "25*a_0**9*alpha**2/7 + a_0**6*(-10*a_0**2*alpha**2/3 + 5*a_0*alpha/3) + a_0**5*(-36*a_0**2*alpha**2/5 + 6*a_0*alpha/5 + 1/5) + a_0**4*(4*a_0**2*alpha**2 - 15*a_0*alpha**2 - 3*a_0*alpha + 1/2) + a_0**3*(16*a_0**2*alpha**2/3 + 8*a_0*alpha**2 - 8*a_0*alpha/3 - 4*alpha + 1/3) + a_0**2*(24*a_0*alpha**2 - 6*alpha) + 36*a_0*alpha**2"
      ]
     },
     "execution_count": 147,
     "metadata": {},
     "output_type": "execute_result"
    }
   ],
   "source": [
    "bottom3=(sym.integrate((denominator3), (x,0,a)))\n",
    "bottom3"
   ]
  },
  {
   "cell_type": "code",
   "execution_count": 148,
   "metadata": {},
   "outputs": [
    {
     "data": {
      "text/latex": [
       "$\\displaystyle \\frac{- 15 a_{0}^{7} \\alpha^{2} + a_{0}^{4} \\left(10 a_{0}^{2} \\alpha^{2} - 5 a_{0} \\alpha\\right) + a_{0}^{3} \\left(\\frac{56 a_{0}^{2} \\alpha^{2}}{3} - \\frac{11 a_{0} \\alpha}{3} - \\frac{1}{3}\\right) + a_{0}^{2} \\left(- 4 a_{0}^{2} \\alpha^{2} + 45 a_{0} \\alpha^{2} + 3 a_{0} \\alpha - \\frac{1}{2}\\right) + a_{0} \\left(- 12 a_{0} \\alpha^{2} + 6 \\alpha\\right)}{\\frac{25 a_{0}^{9} \\alpha^{2}}{7} + a_{0}^{6} \\left(- \\frac{10 a_{0}^{2} \\alpha^{2}}{3} + \\frac{5 a_{0} \\alpha}{3}\\right) + a_{0}^{5} \\left(- \\frac{36 a_{0}^{2} \\alpha^{2}}{5} + \\frac{6 a_{0} \\alpha}{5} + \\frac{1}{5}\\right) + a_{0}^{4} \\left(4 a_{0}^{2} \\alpha^{2} - 15 a_{0} \\alpha^{2} - 3 a_{0} \\alpha + \\frac{1}{2}\\right) + a_{0}^{3} \\left(\\frac{16 a_{0}^{2} \\alpha^{2}}{3} + 8 a_{0} \\alpha^{2} - \\frac{8 a_{0} \\alpha}{3} - 4 \\alpha + \\frac{1}{3}\\right) + a_{0}^{2} \\left(24 a_{0} \\alpha^{2} - 6 \\alpha\\right) + 36 a_{0} \\alpha^{2}}$"
      ],
      "text/plain": [
       "(-15*a_0**7*alpha**2 + a_0**4*(10*a_0**2*alpha**2 - 5*a_0*alpha) + a_0**3*(56*a_0**2*alpha**2/3 - 11*a_0*alpha/3 - 1/3) + a_0**2*(-4*a_0**2*alpha**2 + 45*a_0*alpha**2 + 3*a_0*alpha - 1/2) + a_0*(-12*a_0*alpha**2 + 6*alpha))/(25*a_0**9*alpha**2/7 + a_0**6*(-10*a_0**2*alpha**2/3 + 5*a_0*alpha/3) + a_0**5*(-36*a_0**2*alpha**2/5 + 6*a_0*alpha/5 + 1/5) + a_0**4*(4*a_0**2*alpha**2 - 15*a_0*alpha**2 - 3*a_0*alpha + 1/2) + a_0**3*(16*a_0**2*alpha**2/3 + 8*a_0*alpha**2 - 8*a_0*alpha/3 - 4*alpha + 1/3) + a_0**2*(24*a_0*alpha**2 - 6*alpha) + 36*a_0*alpha**2)"
      ]
     },
     "execution_count": 148,
     "metadata": {},
     "output_type": "execute_result"
    }
   ],
   "source": [
    "top3/bottom3"
   ]
  },
  {
   "cell_type": "code",
   "execution_count": 149,
   "metadata": {},
   "outputs": [
    {
     "data": {
      "text/latex": [
       "$\\displaystyle \\frac{\\frac{128 \\alpha^{2}}{3} + \\frac{\\alpha}{3} - \\frac{5}{6}}{\\frac{1938 \\alpha^{2}}{35} - \\frac{64 \\alpha}{5} + \\frac{31}{30}}$"
      ],
      "text/plain": [
       "(128*alpha**2/3 + alpha/3 - 5/6)/(1938*alpha**2/35 - 64*alpha/5 + 31/30)"
      ]
     },
     "execution_count": 149,
     "metadata": {},
     "output_type": "execute_result"
    }
   ],
   "source": [
    "function2=(top3/bottom3).subs(a,1)\n",
    "function2"
   ]
  },
  {
   "cell_type": "code",
   "execution_count": 150,
   "metadata": {},
   "outputs": [
    {
     "data": {
      "text/latex": [
       "$\\displaystyle \\left\\{\\frac{28423}{177846} - \\frac{\\sqrt{57400165}}{88923}, \\frac{\\sqrt{57400165}}{88923} + \\frac{28423}{177846}\\right\\}$"
      ],
      "text/plain": [
       "{28423/177846 - sqrt(57400165)/88923, sqrt(57400165)/88923 + 28423/177846}"
      ]
     },
     "execution_count": 150,
     "metadata": {},
     "output_type": "execute_result"
    }
   ],
   "source": [
    "solveset(sym.diff(function2,alpha))"
   ]
  },
  {
   "cell_type": "code",
   "execution_count": 151,
   "metadata": {},
   "outputs": [
    {
     "data": {
      "text/plain": [
       "-1.4770141884775134"
      ]
     },
     "execution_count": 151,
     "metadata": {},
     "output_type": "execute_result"
    }
   ],
   "source": [
    "alpha5=(28423/177846)-(sqrt(57400165)/88923)\n",
    "E5=function2.subs(alpha,alpha5)\n",
    "float(E5)"
   ]
  },
  {
   "cell_type": "code",
   "execution_count": 152,
   "metadata": {},
   "outputs": [
    {
     "data": {
      "text/plain": [
       "1.481896047489425"
      ]
     },
     "execution_count": 152,
     "metadata": {},
     "output_type": "execute_result"
    }
   ],
   "source": [
    "alpha6=(sqrt(57400165)/88923)+(28423/177846)\n",
    "E6=function2.subs(alpha, alpha6)\n",
    "float(E6)"
   ]
  },
  {
   "cell_type": "code",
   "execution_count": 153,
   "metadata": {},
   "outputs": [
    {
     "data": {
      "text/latex": [
       "$\\displaystyle x^{2} + x + \\left(0.159818044825298 - \\frac{\\sqrt{57400165}}{88923}\\right) \\left(5 a_{0} x^{3} - 2 a_{0} x^{2} - 4 a_{0} x - 6\\right)$"
      ],
      "text/plain": [
       "x**2 + x + (0.159818044825298 - sqrt(57400165)/88923)*(5*a_0*x**3 - 2*a_0*x**2 - 4*a_0*x - 6)"
      ]
     },
     "execution_count": 153,
     "metadata": {},
     "output_type": "execute_result"
    }
   ],
   "source": [
    "newphi5=phi3.subs(alpha, alpha5)\n",
    "newphi5"
   ]
  },
  {
   "cell_type": "code",
   "execution_count": 154,
   "metadata": {},
   "outputs": [
    {
     "data": {
      "text/latex": [
       "$\\displaystyle x^{2} + x + \\left(0.159818044825298 - \\frac{\\sqrt{57400165}}{88923}\\right) \\left(5 x^{3} - 2 x^{2} - 4 x - 6\\right)$"
      ],
      "text/plain": [
       "x**2 + x + (0.159818044825298 - sqrt(57400165)/88923)*(5*x**3 - 2*x**2 - 4*x - 6)"
      ]
     },
     "execution_count": 154,
     "metadata": {},
     "output_type": "execute_result"
    }
   ],
   "source": [
    "newphi6=newphi5.subs(a,1)\n",
    "newphi6"
   ]
  },
  {
   "cell_type": "code",
   "execution_count": 155,
   "metadata": {},
   "outputs": [
    {
     "data": {
      "image/png": "[encoded data removed]",
      "text/plain": [
       "<Figure size 432x288 with 1 Axes>"
      ]
     },
     "metadata": {
      "needs_background": "light"
     },
     "output_type": "display_data"
    },
    {
     "data": {
      "text/plain": [
       "<sympy.plotting.plot.Plot at 0x21a594a5c18>"
      ]
     },
     "execution_count": 155,
     "metadata": {},
     "output_type": "execute_result"
    }
   ],
   "source": [
    "sym.plot(newphi6,(x,0,1))"
   ]
  },
  {
   "cell_type": "code",
   "execution_count": 156,
   "metadata": {},
   "outputs": [
    {
     "data": {
      "image/png": "[encoded data removed]",
      "text/plain": [
       "<Figure size 432x288 with 1 Axes>"
      ]
     },
     "metadata": {
      "needs_background": "light"
     },
     "output_type": "display_data"
    },
    {
     "data": {
      "text/plain": [
       "<sympy.plotting.plot.Plot at 0x21a5a72e860>"
      ]
     },
     "execution_count": 156,
     "metadata": {},
     "output_type": "execute_result"
    }
   ],
   "source": [
    "#for the true wavefunction, n and a are 1\n",
    "sym.plot(sqrt(2)*sin(sym.pi*x),(x,0,1))"
   ]
  },
  {
   "cell_type": "code",
   "execution_count": 157,
   "metadata": {},
   "outputs": [
    {
     "data": {
      "image/png": "[encoded data removed]",
      "text/plain": [
       "<Figure size 432x288 with 1 Axes>"
      ]
     },
     "metadata": {
      "needs_background": "light"
     },
     "output_type": "display_data"
    },
    {
     "data": {
      "text/plain": [
       "<sympy.plotting.plot.Plot at 0x21a5a45d5f8>"
      ]
     },
     "execution_count": 157,
     "metadata": {},
     "output_type": "execute_result"
    }
   ],
   "source": [
    "sym.plot(sqrt(2)*sin(sym.pi*x),newphi6, (x,0,1))"
   ]
  },
  {
   "cell_type": "markdown",
   "metadata": {},
   "source": [
    "I believe the true solution, and the wavefunction corresponding to the true energy is the better wavefunction. My wavefunction is steadily increasing as x approaches 1. And so, the Etrue wavefunction should be more stable. "
   ]
  },
  {
   "cell_type": "markdown",
   "metadata": {},
   "source": [
    "# Reading Homework"
   ]
  },
  {
   "cell_type": "markdown",
   "metadata": {},
   "source": [
    "Read the following sections in Kramer\n",
    "\n",
    "- 4.2.3 Born-Oppenheimer approximation\n",
    "- 4.3.2 Secular equation\n",
    "- All of 4.5\n",
    "\n",
    "For each subsection\n",
    "- write down the subchapter name\n",
    "- what was the most important idea\n",
    "- draw an idea digram of the main idea\n",
    "\n",
    "**Make sure to upload this to the assignment repository**\n",
    "\n",
    "Example idea diagram:\n",
    "![Particle in a box](idea_map.png)"
   ]
  },
  {
   "cell_type": "code",
   "execution_count": null,
   "metadata": {},
   "outputs": [],
   "source": []
  }
 ],
 "metadata": {
  "kernelspec": {
   "display_name": "Python 3",
   "language": "python",
   "name": "python3"
  },
  "language_info": {
   "codemirror_mode": {
    "name": "ipython",
    "version": 3
   },
   "file_extension": ".py",
   "mimetype": "text/x-python",
   "name": "python",
   "nbconvert_exporter": "python",
   "pygments_lexer": "ipython3",
   "version": "3.7.3"
  }
 },
 "nbformat": 4,
 "nbformat_minor": 2
}
